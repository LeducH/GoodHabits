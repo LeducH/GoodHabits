{
 "cells": [
  {
   "cell_type": "code",
   "execution_count": 1,
   "metadata": {},
   "outputs": [],
   "source": [
    "list = [\"Be kind\",                                                                                                                              \n",
    "\"Keep an open-mind\",\n",
    "\"Eat well\",\n",
    "\"Put your needs first\",\n",
    "\"Exercise\",\n",
    "\"Don't make excuses\",\n",
    "\"Meditate\",\n",
    "\"Speak well of others\",\n",
    "\"Be honest\",\n",
    "\"Listen to understand\",\n",
    "\"Dream big\",\n",
    "\"Choose faith over fear\",\n",
    "\"Be patient\",\n",
    "\"Make the most of now\",\n",
    "\"Judge less\",\n",
    "\"Exercise self-discipline\",\n",
    "\"Smile often\",\n",
    "\"Look on the bright side\",\n",
    "\"Love yourself\",\n",
    "\"Avoid social comparison\",\n",
    "\"Forgive easily\",\n",
    "\"See failure as opportunity\",\n",
    "\"Show gratitude\",\n",
    "\"Don't take opinions to heart\",\n",
    "\"Think positively\",\n",
    "\"Select friends that lift you up\",\n",
    "\"Drink lots of water\",\n",
    "\"Let go of what can't be changed\",\n",
    "\"Believe in yourself\",\n",
    "\"Have a healthy sleeping pattern\"\n",
    "]"
   ]
  },
  {
   "cell_type": "code",
   "execution_count": 2,
   "metadata": {},
   "outputs": [
    {
     "data": {
      "text/plain": [
       "'Eat well'"
      ]
     },
     "execution_count": 2,
     "metadata": {},
     "output_type": "execute_result"
    }
   ],
   "source": [
    "list[2]"
   ]
  },
  {
   "cell_type": "code",
   "execution_count": 27,
   "metadata": {},
   "outputs": [
    {
     "name": "stdout",
     "output_type": "stream",
     "text": [
      "['Be patient', \"Let go of what can't be changed\", 'Be kind']\n"
     ]
    }
   ],
   "source": [
    "import random\n",
    "\n",
    "\n",
    "sample = random.sample(list, 3)\n",
    "print(sample)\n",
    "\n"
   ]
  },
  {
   "cell_type": "code",
   "execution_count": null,
   "metadata": {},
   "outputs": [],
   "source": []
  },
  {
   "cell_type": "code",
   "execution_count": null,
   "metadata": {},
   "outputs": [],
   "source": []
  }
 ],
 "metadata": {
  "kernelspec": {
   "display_name": "Python 3",
   "language": "python",
   "name": "python3"
  },
  "language_info": {
   "codemirror_mode": {
    "name": "ipython",
    "version": 3
   },
   "file_extension": ".py",
   "mimetype": "text/x-python",
   "name": "python",
   "nbconvert_exporter": "python",
   "pygments_lexer": "ipython3",
   "version": "3.6.4"
  }
 },
 "nbformat": 4,
 "nbformat_minor": 2
}
